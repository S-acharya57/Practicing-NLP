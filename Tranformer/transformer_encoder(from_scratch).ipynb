{
 "cells": [
  {
   "cell_type": "code",
   "execution_count": 73,
   "metadata": {
    "id": "dM1z4JZ2no8A"
   },
   "outputs": [],
   "source": [
    "import torch\n",
    "import torch.nn as nn\n",
    "import torch.nn.functional as F\n",
    "import math\n",
    "import numpy as np"
   ]
  },
  {
   "cell_type": "code",
   "execution_count": 74,
   "metadata": {
    "id": "Y0nurxJYZHAG"
   },
   "outputs": [],
   "source": [
    "class Embedding(nn.Module):\n",
    "    def __init__(self, vocab_size, embedding_dim):\n",
    "        super(Embedding, self).__init__()\n",
    "        self.embedding = nn.Embedding(vocab_size, embedding_dim)\n",
    "\n",
    "    def forward(self, x):\n",
    "        return self.embedding(x)"
   ]
  },
  {
   "cell_type": "code",
   "execution_count": 75,
   "metadata": {},
   "outputs": [
    {
     "data": {
      "text/plain": [
       "torch.Size([2, 12])"
      ]
     },
     "execution_count": 75,
     "metadata": {},
     "output_type": "execute_result"
    }
   ],
   "source": [
    "torch.tensor([[0, 2, 5, 6, 4, 3, 9, 5, 2, 9, 10, 1],\n",
    "                    [0, 2, 8, 7, 3, 4, 5, 6, 7, 2, 10, 1]]).shape "
   ]
  },
  {
   "cell_type": "code",
   "execution_count": 76,
   "metadata": {
    "colab": {
     "base_uri": "https://localhost:8080/"
    },
    "id": "rEW9EZBdd2dH",
    "outputId": "24211ed9-8f39-4219-adf0-cc955c6b6ffa"
   },
   "outputs": [
    {
     "data": {
      "text/plain": [
       "torch.Size([2, 12, 512])"
      ]
     },
     "execution_count": 76,
     "metadata": {},
     "output_type": "execute_result"
    }
   ],
   "source": [
    "# for length of 12\n",
    "Embedding(100, 512).forward(torch.tensor([[0, 2, 5, 6, 4, 3, 9, 5, 2, 9, 10, 1],\n",
    "                    [0, 2, 8, 7, 3, 4, 5, 6, 7, 2, 10, 1]])).shape"
   ]
  },
  {
   "cell_type": "code",
   "execution_count": 77,
   "metadata": {},
   "outputs": [
    {
     "data": {
      "text/plain": [
       "torch.Size([2, 12, 64])"
      ]
     },
     "execution_count": 77,
     "metadata": {},
     "output_type": "execute_result"
    }
   ],
   "source": [
    "Embedding(50, 64).forward(torch.randint(2, 12, (2,12))).shape"
   ]
  },
  {
   "cell_type": "code",
   "execution_count": 78,
   "metadata": {
    "id": "XyITB406ZRXi"
   },
   "outputs": [],
   "source": [
    "class PositionalEncoding(nn.Module):\n",
    "    def __init__(self, seq_length, embedding_dim):\n",
    "        super(PositionalEncoding, self).__init__()\n",
    "        self.embedding_dim = embedding_dim\n",
    "        self.pv = torch.zeros(seq_length, self.embedding_dim)\n",
    "        self.seq_length = seq_length\n",
    "\n",
    "    def forward(self, embedded_x):\n",
    "        \"\"\"\n",
    "            Function to return positional encoding with combination of word embeddings\n",
    "            and positional vector\n",
    "        Arguments:\n",
    "            pe: Positional vector variable of that shape\n",
    "            self.embedding_dim: Dimension of the vector required for the model\n",
    "            pos_encoding: Variable to hold final positional Encoding of the word\n",
    "        \"\"\"\n",
    "        seq_length = embedded_x.shape[1]\n",
    "        pos_encoding = torch.zeros_like(embedded_x)\n",
    "        for batch_idx, batch in enumerate(pos_encoding):\n",
    "            # print(f'batch shape: {batch.shape}')\n",
    "            for pos, emb in enumerate(batch):\n",
    "                emb = emb.reshape(1, -1)\n",
    "                for i in range(0,self.embedding_dim, 2):\n",
    "                    self.pv[0][i] = np.sin(pos/10000**((2*i)/self.embedding_dim))\n",
    "                    # print(pos, i, pos_encoding.shape)\n",
    "                    # print(pos_encoding[pos][i])\n",
    "\n",
    "                    # Value of the word embedding is increased by the product with sqrt of 512\n",
    "                    # Simple addition of the positional information to the word embedding\n",
    "                    pos_encoding[batch_idx][pos][i] = (emb[0][i] * np.sqrt(self.embedding_dim)) + self.pv[0][i]\n",
    "\n",
    "                    self.pv[0][i+1] = np.cos(pos/10000**((2*i)/self.embedding_dim))\n",
    "                    pos_encoding[batch_idx][pos][i+1] = (emb[0][i+1] * np.sqrt(self.embedding_dim)) + self.pv[0][i+1]\n",
    "        return pos_encoding\n"
   ]
  },
  {
   "cell_type": "code",
   "execution_count": 79,
   "metadata": {
    "colab": {
     "base_uri": "https://localhost:8080/"
    },
    "id": "pVDmTcqIqzpF",
    "outputId": "3f0f3a7e-b23a-4fa7-c2f1-a20c8b519f59"
   },
   "outputs": [
    {
     "data": {
      "text/plain": [
       "torch.Size([10, 12, 512])"
      ]
     },
     "execution_count": 79,
     "metadata": {},
     "output_type": "execute_result"
    }
   ],
   "source": [
    "PositionalEncoding(10, 512).forward(torch.rand(10,12,512)).shape"
   ]
  },
  {
   "cell_type": "code",
   "execution_count": 80,
   "metadata": {
    "id": "1tJkeqU_kNTr"
   },
   "outputs": [],
   "source": [
    "# # PositionalEncoding(10, 512).forward(torch.rand((10,512))).shape\n",
    "# rand_ = torch.rand(10, 10, 512)\n",
    "# # embeddings_temporary = torch.tensor([PositionalEncoding(10, 512).forward(r) for r in rand_])\n",
    "# embeddings_temporary = torch.tensor([])\n",
    "# for r in rand_:\n",
    "#     for m in r:\n",
    "#         print(m.reshape(1,-1).shape)\n",
    "#         break"
   ]
  },
  {
   "cell_type": "code",
   "execution_count": 133,
   "metadata": {
    "id": "qOLjoVjqntxe"
   },
   "outputs": [],
   "source": [
    "class MultiHeadAttention(nn.Module):\n",
    "    def __init__(self, embedding_dim=512, num_heads=8):\n",
    "        super(MultiHeadAttention, self).__init__()\n",
    "\n",
    "        self.embedding_dim = embedding_dim\n",
    "        self.num_heads = num_heads\n",
    "\n",
    "        self.single_head_dim = int(self.embedding_dim/self.num_heads)\n",
    "\n",
    "        self.query_mat = nn.Linear(self.single_head_dim, self.single_head_dim, bias=False)\n",
    "        self.key_mat = nn.Linear(self.single_head_dim, self.single_head_dim, bias=False)\n",
    "        self.value_mat = nn.Linear(self.single_head_dim, self.single_head_dim, bias=False)\n",
    "\n",
    "        self.out = nn.Linear(self.num_heads * self.single_head_dim, self.embedding_dim)\n",
    "\n",
    "    def forward(self, key, query, value, mask=None):\n",
    "        # [BS, seq_len, embedding_dim]\n",
    "        batch_size = key.size(0)\n",
    "        seq_length = key.size(1)\n",
    "\n",
    "        # seq length can vary in decoder since it comes from lower decoder, not encoder\n",
    "        seq_length_query = query.size(1)\n",
    "\n",
    "        # reshaping it as [BS, seq_length, num_heads, single_head_dim]\n",
    "        # embedding_dim = num_heads * single_head_dim\n",
    "        # each word has 512 dim, 64 dim in each head\n",
    "        # whole sequence has 10 words, so!\n",
    "        key = key.view(batch_size, seq_length, self.num_heads, self.single_head_dim)\n",
    "        query = query.view(batch_size, seq_length, self.num_heads, self.single_head_dim)\n",
    "        value = value.view(batch_size, seq_length, self.num_heads, self.single_head_dim)\n",
    "\n",
    "        k = self.key_mat(key) #[32x8x64x10]\n",
    "        q = self.query_mat(query) #[32x8x64x10]\n",
    "        v = self.value_mat(value) #[32x8x64x10]\n",
    "\n",
    "        q = q.transpose(1, 2) #[32x8x10x64]\n",
    "        k = k.transpose(1, 2)\n",
    "        v = v.transpose(1, 2)\n",
    "\n",
    "        # for transpose of k\n",
    "        k_transposed = k.transpose(-1,-2) # 32x8x10x64\n",
    "\n",
    "        # scaled dot product attention\n",
    "        # attention score!\n",
    "        product = torch.matmul(q, k_transposed) # 32x8x10x10\n",
    "\n",
    "        # if there is mask\n",
    "        # replace the values in product, corresponding to the 0s in the same space in the mask tensor \n",
    "        # the product will have replaced the values in those locations with '-inf'\n",
    "        # print(product[0,:,0,:20])\n",
    "        print(f'Before mask, product shape: {product.shape}')\n",
    "        if mask is not None:\n",
    "            product = product.masked_fill(mask==0, float('-inf'))\n",
    "        print(f'After mask, product shape: {product.shape}')        \n",
    "        # print(product[0,:,0,:20])\n",
    "        \n",
    "        product = product / math.sqrt(self.single_head_dim)\n",
    "        print(f'Shape of product is {product.shape}')\n",
    "\n",
    "        # softmax to normalize the scores, so they sum to 1\n",
    "        # softmax scores\n",
    "        softmax_scores = F.softmax(product, dim=1) # 32x8x10x10\n",
    "\n",
    "        # final attention scores\n",
    "        # multiply each value vector with softmax scores\n",
    "        scores = torch.matmul(softmax_scores, v) # 32x8x10x64\n",
    "\n",
    "        concat = scores.transpose(1,2).contiguous().view(batch_size, seq_length_query, self.single_head_dim * self.num_heads)\n",
    "        #32x10x512\n",
    "\n",
    "        output = self.out(concat) # 32x10x512\n",
    "\n",
    "        return output"
   ]
  },
  {
   "cell_type": "code",
   "execution_count": 134,
   "metadata": {},
   "outputs": [
    {
     "data": {
      "text/plain": [
       "512"
      ]
     },
     "execution_count": 134,
     "metadata": {},
     "output_type": "execute_result"
    }
   ],
   "source": [
    "64*8"
   ]
  },
  {
   "cell_type": "code",
   "execution_count": 135,
   "metadata": {
    "id": "L1tFTotQNJlY"
   },
   "outputs": [],
   "source": [
    "mha = MultiHeadAttention()"
   ]
  },
  {
   "cell_type": "code",
   "execution_count": 136,
   "metadata": {
    "colab": {
     "base_uri": "https://localhost:8080/"
    },
    "id": "YWAKqpHmNbrR",
    "outputId": "18c2cea3-a1d5-485f-e624-aa9b18140bd3"
   },
   "outputs": [
    {
     "name": "stdout",
     "output_type": "stream",
     "text": [
      "Before mask, product shape: torch.Size([32, 8, 10, 10])\n",
      "After mask, product shape: torch.Size([32, 8, 10, 10])\n",
      "Shape of product is torch.Size([32, 8, 10, 10])\n"
     ]
    },
    {
     "data": {
      "text/plain": [
       "torch.Size([32, 10, 512])"
      ]
     },
     "execution_count": 136,
     "metadata": {},
     "output_type": "execute_result"
    }
   ],
   "source": [
    "rand = torch.randn(32,10,512)\n",
    "mha.forward(rand, rand, rand).shape"
   ]
  },
  {
   "cell_type": "code",
   "execution_count": 137,
   "metadata": {
    "id": "ElkrL00DOKxM"
   },
   "outputs": [],
   "source": [
    "class EncoderBlock(nn.Module):\n",
    "    def __init__(self, embedding_dim, num_heads = 8):\n",
    "        super(EncoderBlock, self).__init__()\n",
    "\n",
    "        self.attention = MultiHeadAttention(embedding_dim, num_heads)\n",
    "\n",
    "        self.norm = nn.LayerNorm(embedding_dim)\n",
    "\n",
    "        self.feed_forward = nn.Sequential(\n",
    "            nn.Linear(embedding_dim, 4*embedding_dim),\n",
    "            nn.ReLU(),\n",
    "            nn.Linear(4*embedding_dim, embedding_dim)\n",
    "        )\n",
    "\n",
    "        self.dropout = nn.Dropout(0.2)\n",
    "\n",
    "    def forward(self, key, query, value):\n",
    "        attention_scores = self.attention(key, query, value)\n",
    "        attention_with_residual = attention_scores + value # 32x10x512\n",
    "        norm1_out = self.dropout(self.norm(attention_with_residual))\n",
    "\n",
    "        ff_out = self.feed_forward(norm1_out)\n",
    "\n",
    "        ff_out_with_residual = ff_out + norm1_out\n",
    "\n",
    "        norm2_out = self.dropout(self.norm(ff_out_with_residual))\n",
    "\n",
    "        return norm2_out"
   ]
  },
  {
   "cell_type": "code",
   "execution_count": 138,
   "metadata": {},
   "outputs": [
    {
     "name": "stdout",
     "output_type": "stream",
     "text": [
      "Before mask, product shape: torch.Size([2, 8, 19, 19])\n",
      "After mask, product shape: torch.Size([2, 8, 19, 19])\n",
      "Shape of product is torch.Size([2, 8, 19, 19])\n"
     ]
    },
    {
     "data": {
      "text/plain": [
       "torch.Size([2, 19, 512])"
      ]
     },
     "execution_count": 138,
     "metadata": {},
     "output_type": "execute_result"
    }
   ],
   "source": [
    "encoder_block = EncoderBlock(embedding_dim=512, num_heads=8)\n",
    "x = torch.randn(2,19,512)\n",
    "encoder_block.forward(x,x,x).shape"
   ]
  },
  {
   "cell_type": "code",
   "execution_count": 139,
   "metadata": {
    "id": "zL-QzEMfU8u8"
   },
   "outputs": [],
   "source": [
    "class TransformerEncoder(nn.Module):\n",
    "    def __init__(self, vocab_size, seq_length, embedding_dim, num_layers=2, num_heads=8):\n",
    "        super(TransformerEncoder, self).__init__()\n",
    "\n",
    "        self.embedding_layer = Embedding(vocab_size, embedding_dim)\n",
    "        self.positional_encoder = PositionalEncoding(seq_length, embedding_dim)\n",
    "        self.layers = nn.ModuleList(\n",
    "            [EncoderBlock(embedding_dim, num_heads) for i in range(num_layers)]\n",
    "        )\n",
    "\n",
    "    def forward(self, x):\n",
    "        embedding_output = self.embedding_layer(x)\n",
    "        print(f'Embedding output shape is: {embedding_output.shape}')\n",
    "        positional_encoding = self.positional_encoder(embedding_output)\n",
    "\n",
    "        # for first encoder that takes in the positional encoding vector\n",
    "        out = positional_encoding\n",
    "        print(f'Out shape: {out.shape}')\n",
    "        for layer in self.layers:\n",
    "            out = layer(out, out, out)\n",
    "\n",
    "        return out"
   ]
  },
  {
   "cell_type": "code",
   "execution_count": 140,
   "metadata": {
    "colab": {
     "base_uri": "https://localhost:8080/"
    },
    "id": "Ln5ntuetclb2",
    "outputId": "ffb14dd8-a157-45ef-efbb-5784d8ddf3d6"
   },
   "outputs": [
    {
     "data": {
      "text/plain": [
       "TransformerEncoder(\n",
       "  (embedding_layer): Embedding(\n",
       "    (embedding): Embedding(100, 512)\n",
       "  )\n",
       "  (positional_encoder): PositionalEncoding()\n",
       "  (layers): ModuleList(\n",
       "    (0-1): 2 x EncoderBlock(\n",
       "      (attention): MultiHeadAttention(\n",
       "        (query_mat): Linear(in_features=64, out_features=64, bias=False)\n",
       "        (key_mat): Linear(in_features=64, out_features=64, bias=False)\n",
       "        (value_mat): Linear(in_features=64, out_features=64, bias=False)\n",
       "        (out): Linear(in_features=512, out_features=512, bias=True)\n",
       "      )\n",
       "      (norm): LayerNorm((512,), eps=1e-05, elementwise_affine=True)\n",
       "      (feed_forward): Sequential(\n",
       "        (0): Linear(in_features=512, out_features=2048, bias=True)\n",
       "        (1): ReLU()\n",
       "        (2): Linear(in_features=2048, out_features=512, bias=True)\n",
       "      )\n",
       "      (dropout): Dropout(p=0.2, inplace=False)\n",
       "    )\n",
       "  )\n",
       ")"
      ]
     },
     "execution_count": 140,
     "metadata": {},
     "output_type": "execute_result"
    }
   ],
   "source": [
    "te = TransformerEncoder(vocab_size=100, seq_length=10, embedding_dim=512, num_layers=2, num_heads=8)\n",
    "te"
   ]
  },
  {
   "cell_type": "code",
   "execution_count": 141,
   "metadata": {
    "colab": {
     "base_uri": "https://localhost:8080/"
    },
    "id": "NKye0GQacp64",
    "outputId": "7c57551f-a977-45be-aa2c-8f7945fcecdc"
   },
   "outputs": [
    {
     "data": {
      "text/plain": [
       "(torch.Size([2, 19]), torch.Size([1, 10]))"
      ]
     },
     "execution_count": 141,
     "metadata": {},
     "output_type": "execute_result"
    }
   ],
   "source": [
    "source = torch.tensor([[3,21,4,6,1,3,5,34,3,1,3,5,1,3,67,8,3,67,4],\n",
    "                       [3,43,3,5,1,3,67,8,3,67,4,34,23,4,1,3,4,65,2]])\n",
    "target = torch.randn(1,10)\n",
    "source.shape , target.shape"
   ]
  },
  {
   "cell_type": "code",
   "execution_count": 142,
   "metadata": {
    "colab": {
     "base_uri": "https://localhost:8080/"
    },
    "id": "07BHEfxzdzCi",
    "outputId": "c2a5058d-654a-4a86-b677-3fbf18e38de1"
   },
   "outputs": [
    {
     "name": "stdout",
     "output_type": "stream",
     "text": [
      "Embedding output shape is: torch.Size([2, 19, 512])\n",
      "Out shape: torch.Size([2, 19, 512])\n",
      "Before mask, product shape: torch.Size([2, 8, 19, 19])\n",
      "After mask, product shape: torch.Size([2, 8, 19, 19])\n",
      "Shape of product is torch.Size([2, 8, 19, 19])\n",
      "Before mask, product shape: torch.Size([2, 8, 19, 19])\n",
      "After mask, product shape: torch.Size([2, 8, 19, 19])\n",
      "Shape of product is torch.Size([2, 8, 19, 19])\n"
     ]
    },
    {
     "data": {
      "text/plain": [
       "torch.Size([2, 19, 512])"
      ]
     },
     "execution_count": 142,
     "metadata": {},
     "output_type": "execute_result"
    }
   ],
   "source": [
    "te.forward(source).shape"
   ]
  },
  {
   "cell_type": "markdown",
   "metadata": {},
   "source": [
    "### Decoder of Transformer "
   ]
  },
  {
   "cell_type": "code",
   "execution_count": 143,
   "metadata": {
    "id": "OiNYGmU-fLRX"
   },
   "outputs": [],
   "source": [
    "mha_decoder = MultiHeadAttention()\n",
    "x = torch.randn(32,10,512)\n",
    "# x will be the q, k and v for now "
   ]
  },
  {
   "cell_type": "code",
   "execution_count": 144,
   "metadata": {},
   "outputs": [
    {
     "name": "stdout",
     "output_type": "stream",
     "text": [
      "Shape of target_mask: torch.Size([10, 10])\n",
      "tensor([[0., 1., 1., 1., 1., 1., 1., 1., 1., 1.],\n",
      "        [0., 0., 1., 1., 1., 1., 1., 1., 1., 1.],\n",
      "        [0., 0., 0., 1., 1., 1., 1., 1., 1., 1.],\n",
      "        [0., 0., 0., 0., 1., 1., 1., 1., 1., 1.],\n",
      "        [0., 0., 0., 0., 0., 1., 1., 1., 1., 1.],\n",
      "        [0., 0., 0., 0., 0., 0., 1., 1., 1., 1.],\n",
      "        [0., 0., 0., 0., 0., 0., 0., 1., 1., 1.],\n",
      "        [0., 0., 0., 0., 0., 0., 0., 0., 1., 1.],\n",
      "        [0., 0., 0., 0., 0., 0., 0., 0., 0., 1.],\n",
      "        [0., 0., 0., 0., 0., 0., 0., 0., 0., 0.]])\n"
     ]
    }
   ],
   "source": [
    "# creating a mask, upper triangular for autoregressive behaviour\n",
    "target_mask = torch.triu(torch.ones((10,10)),diagonal=1)\n",
    "print(f'Shape of target_mask: {target_mask.shape}')\n",
    "print(target_mask)"
   ]
  },
  {
   "cell_type": "code",
   "execution_count": 145,
   "metadata": {},
   "outputs": [
    {
     "data": {
      "text/plain": [
       "(torch.Size([1, 10, 10]), torch.Size([1, 1, 10, 10]))"
      ]
     },
     "execution_count": 145,
     "metadata": {},
     "output_type": "execute_result"
    }
   ],
   "source": [
    "target_mask.unsqueeze(0).shape, target_mask.unsqueeze(0).unsqueeze(0).shape"
   ]
  },
  {
   "cell_type": "code",
   "execution_count": 146,
   "metadata": {},
   "outputs": [
    {
     "name": "stdout",
     "output_type": "stream",
     "text": [
      "tensor([[[[0., 1., 1., 1., 1., 1., 1., 1., 1., 1.],\n",
      "          [0., 0., 1., 1., 1., 1., 1., 1., 1., 1.],\n",
      "          [0., 0., 0., 1., 1., 1., 1., 1., 1., 1.],\n",
      "          [0., 0., 0., 0., 1., 1., 1., 1., 1., 1.],\n",
      "          [0., 0., 0., 0., 0., 1., 1., 1., 1., 1.],\n",
      "          [0., 0., 0., 0., 0., 0., 1., 1., 1., 1.],\n",
      "          [0., 0., 0., 0., 0., 0., 0., 1., 1., 1.],\n",
      "          [0., 0., 0., 0., 0., 0., 0., 0., 1., 1.],\n",
      "          [0., 0., 0., 0., 0., 0., 0., 0., 0., 1.],\n",
      "          [0., 0., 0., 0., 0., 0., 0., 0., 0., 0.]]]])\n",
      "torch.Size([1, 1, 10, 10])\n"
     ]
    },
    {
     "data": {
      "text/plain": [
       "tensor([[[[ True, False, False, False, False, False, False, False, False, False],\n",
       "          [ True,  True, False, False, False, False, False, False, False, False],\n",
       "          [ True,  True,  True, False, False, False, False, False, False, False],\n",
       "          [ True,  True,  True,  True, False, False, False, False, False, False],\n",
       "          [ True,  True,  True,  True,  True, False, False, False, False, False],\n",
       "          [ True,  True,  True,  True,  True,  True, False, False, False, False],\n",
       "          [ True,  True,  True,  True,  True,  True,  True, False, False, False],\n",
       "          [ True,  True,  True,  True,  True,  True,  True,  True, False, False],\n",
       "          [ True,  True,  True,  True,  True,  True,  True,  True,  True, False],\n",
       "          [ True,  True,  True,  True,  True,  True,  True,  True,  True,  True]]]])"
      ]
     },
     "execution_count": 146,
     "metadata": {},
     "output_type": "execute_result"
    }
   ],
   "source": [
    "target_mask = target_mask.unsqueeze(0).unsqueeze(0)\n",
    "print(target_mask)\n",
    "target_mask = target_mask==0\n",
    "print(target_mask.shape)\n",
    "target_mask "
   ]
  },
  {
   "cell_type": "code",
   "execution_count": 147,
   "metadata": {},
   "outputs": [
    {
     "name": "stdout",
     "output_type": "stream",
     "text": [
      "Before mask, product shape: torch.Size([32, 8, 10, 10])\n",
      "After mask, product shape: torch.Size([32, 8, 10, 10])\n",
      "Shape of product is torch.Size([32, 8, 10, 10])\n"
     ]
    },
    {
     "data": {
      "text/plain": [
       "torch.Size([32, 10, 512])"
      ]
     },
     "execution_count": 147,
     "metadata": {},
     "output_type": "execute_result"
    }
   ],
   "source": [
    "mha_decoder.forward(x, x, x, target_mask).shape "
   ]
  },
  {
   "cell_type": "code",
   "execution_count": 148,
   "metadata": {},
   "outputs": [],
   "source": [
    "class DecoderBlock(nn.Module):\n",
    "    def __init__(self, embedding_dim, num_heads=8):\n",
    "        super(DecoderBlock, self).__init__()\n",
    "\n",
    "        self.self_attention = MultiHeadAttention(embedding_dim, num_heads)\n",
    "        self.cross_attention = MultiHeadAttention(embedding_dim, num_heads)\n",
    "\n",
    "        self.ffn = nn.Sequential(\n",
    "            nn.Linear(embedding_dim, 4*embedding_dim),\n",
    "            nn.ReLU(),\n",
    "            nn.Linear(4*embedding_dim, embedding_dim)\n",
    "        )\n",
    "\n",
    "        self.norm = nn.LayerNorm(embedding_dim)\n",
    "\n",
    "        self.dropout = nn.Dropout(0.2)\n",
    "\n",
    "    def forward(self, key, query, value, enc_output=None, mask=None):\n",
    "        masked_attention_scores = self.self_attention(key, query, value, mask)\n",
    "        attention_with_residual = masked_attention_scores + value \n",
    "        norm_out = self.dropout(self.norm(attention_with_residual))\n",
    "        print(f'Norm out shape: {norm_out.shape}')\n",
    "        # key: key_encoder, query:query_decoder, value:value_encoder\n",
    "        cross_attention_scores = self.cross_attention(enc_output, norm_out, enc_output, mask)\n",
    "        cross_attention_with_residual = cross_attention_scores + norm_out \n",
    "        norm2_out = self.dropout(self.norm(cross_attention_with_residual))\n",
    "        \n",
    "        ff_out = self.ffn(norm2_out)\n",
    "        ff_out_with_residual = ff_out + norm_out\n",
    "\n",
    "        norm3_out = self.dropout(self.norm(ff_out_with_residual))\n",
    "\n",
    "        return norm3_out"
   ]
  },
  {
   "cell_type": "code",
   "execution_count": 153,
   "metadata": {},
   "outputs": [
    {
     "name": "stdout",
     "output_type": "stream",
     "text": [
      "Before mask, product shape: torch.Size([2, 8, 16, 16])\n",
      "After mask, product shape: torch.Size([2, 8, 16, 16])\n",
      "Shape of product is torch.Size([2, 8, 16, 16])\n",
      "Norm out shape: torch.Size([2, 16, 512])\n",
      "Before mask, product shape: torch.Size([2, 8, 16, 16])\n",
      "After mask, product shape: torch.Size([2, 8, 16, 16])\n",
      "Shape of product is torch.Size([2, 8, 16, 16])\n"
     ]
    },
    {
     "data": {
      "text/plain": [
       "torch.Size([2, 16, 512])"
      ]
     },
     "execution_count": 153,
     "metadata": {},
     "output_type": "execute_result"
    }
   ],
   "source": [
    "decoder = DecoderBlock(embedding_dim=512, num_heads=8)\n",
    "x = torch.randn(2,16,512)\n",
    "enc_output = torch.randn(2,16,512)\n",
    "\n",
    "# target mask should be (target_seq_len, target_seq_len)\n",
    "target_mask = torch.triu(torch.ones((16,16)), diagonal=1)\n",
    "target_mask = target_mask.unsqueeze(0).unsqueeze(0)\n",
    "target_mask = target_mask==0\n",
    "decoder.forward(x,x,x,enc_output, target_mask).shape "
   ]
  },
  {
   "cell_type": "code",
   "execution_count": 162,
   "metadata": {},
   "outputs": [],
   "source": [
    "class TransformerDecoder(nn.Module):\n",
    "    def __init__(self, vocab_size, seq_length, embedding_dim, num_layers=2, num_heads=8):\n",
    "        super(TransformerDecoder, self).__init__()\n",
    "\n",
    "        self.embedding_layer = Embedding(vocab_size, embedding_dim)\n",
    "        self.positional_encoder = PositionalEncoding(seq_length, embedding_dim)\n",
    "        self.layers = nn.ModuleList(\n",
    "            [DecoderBlock(embedding_dim, num_heads) for i in range(num_layers)]\n",
    "        )\n",
    "\n",
    "    def forward(self, x, encoder_output=None, mask=None):\n",
    "        embedding_output = self.embedding_layer(x)\n",
    "        positional_encoding = self.positional_encoder(embedding_output)\n",
    "\n",
    "        out = positional_encoding\n",
    "        print(f'Positional encoding shape: {out.shape}')\n",
    "        for layer in self.layers:\n",
    "            out = layer(out, out, out, encoder_output, mask)\n",
    "        return out "
   ]
  },
  {
   "cell_type": "code",
   "execution_count": 163,
   "metadata": {},
   "outputs": [
    {
     "data": {
      "text/plain": [
       "TransformerDecoder(\n",
       "  (embedding_layer): Embedding(\n",
       "    (embedding): Embedding(100, 512)\n",
       "  )\n",
       "  (positional_encoder): PositionalEncoding()\n",
       "  (layers): ModuleList(\n",
       "    (0-1): 2 x DecoderBlock(\n",
       "      (self_attention): MultiHeadAttention(\n",
       "        (query_mat): Linear(in_features=64, out_features=64, bias=False)\n",
       "        (key_mat): Linear(in_features=64, out_features=64, bias=False)\n",
       "        (value_mat): Linear(in_features=64, out_features=64, bias=False)\n",
       "        (out): Linear(in_features=512, out_features=512, bias=True)\n",
       "      )\n",
       "      (cross_attention): MultiHeadAttention(\n",
       "        (query_mat): Linear(in_features=64, out_features=64, bias=False)\n",
       "        (key_mat): Linear(in_features=64, out_features=64, bias=False)\n",
       "        (value_mat): Linear(in_features=64, out_features=64, bias=False)\n",
       "        (out): Linear(in_features=512, out_features=512, bias=True)\n",
       "      )\n",
       "      (ffn): Sequential(\n",
       "        (0): Linear(in_features=512, out_features=2048, bias=True)\n",
       "        (1): ReLU()\n",
       "        (2): Linear(in_features=2048, out_features=512, bias=True)\n",
       "      )\n",
       "      (norm): LayerNorm((512,), eps=1e-05, elementwise_affine=True)\n",
       "      (dropout): Dropout(p=0.2, inplace=False)\n",
       "    )\n",
       "  )\n",
       ")"
      ]
     },
     "execution_count": 163,
     "metadata": {},
     "output_type": "execute_result"
    }
   ],
   "source": [
    "td = TransformerDecoder(vocab_size=100, seq_length=10, embedding_dim=512, num_layers=2, num_heads=8)\n",
    "td"
   ]
  },
  {
   "cell_type": "code",
   "execution_count": 164,
   "metadata": {},
   "outputs": [],
   "source": [
    "source = torch.tensor([[3,21,4,6,1,3,5,34,3,1,3,5,1,3,67,8,3,67,4],\n",
    "                       [3,43,3,5,1,3,67,8,3,67,4,34,23,4,1,3,4,65,2]])"
   ]
  },
  {
   "cell_type": "code",
   "execution_count": 166,
   "metadata": {},
   "outputs": [
    {
     "name": "stdout",
     "output_type": "stream",
     "text": [
      "Positional encoding shape: torch.Size([2, 16, 512])\n",
      "Before mask, product shape: torch.Size([2, 8, 16, 16])\n",
      "After mask, product shape: torch.Size([2, 8, 16, 16])\n",
      "Shape of product is torch.Size([2, 8, 16, 16])\n",
      "Norm out shape: torch.Size([2, 16, 512])\n",
      "Before mask, product shape: torch.Size([2, 8, 16, 16])\n",
      "After mask, product shape: torch.Size([2, 8, 16, 16])\n",
      "Shape of product is torch.Size([2, 8, 16, 16])\n",
      "Before mask, product shape: torch.Size([2, 8, 16, 16])\n",
      "After mask, product shape: torch.Size([2, 8, 16, 16])\n",
      "Shape of product is torch.Size([2, 8, 16, 16])\n",
      "Norm out shape: torch.Size([2, 16, 512])\n",
      "Before mask, product shape: torch.Size([2, 8, 16, 16])\n",
      "After mask, product shape: torch.Size([2, 8, 16, 16])\n",
      "Shape of product is torch.Size([2, 8, 16, 16])\n"
     ]
    },
    {
     "data": {
      "text/plain": [
       "torch.Size([2, 16, 512])"
      ]
     },
     "execution_count": 166,
     "metadata": {},
     "output_type": "execute_result"
    }
   ],
   "source": [
    "x = torch.randint(0,15,(2,16))\n",
    "enc_output = torch.randn(2,16,512)\n",
    "\n",
    "# target mask should be (target_seq_len, target_seq_len)\n",
    "target_mask = torch.triu(torch.ones((16,16)), diagonal=1)\n",
    "target_mask = target_mask.unsqueeze(0).unsqueeze(0)\n",
    "target_mask = target_mask==0\n",
    "\n",
    "td.forward(x, enc_output, target_mask).shape"
   ]
  },
  {
   "cell_type": "code",
   "execution_count": null,
   "metadata": {},
   "outputs": [],
   "source": []
  },
  {
   "cell_type": "code",
   "execution_count": null,
   "metadata": {},
   "outputs": [],
   "source": []
  },
  {
   "cell_type": "code",
   "execution_count": null,
   "metadata": {},
   "outputs": [],
   "source": []
  },
  {
   "cell_type": "code",
   "execution_count": null,
   "metadata": {},
   "outputs": [],
   "source": []
  },
  {
   "cell_type": "code",
   "execution_count": null,
   "metadata": {},
   "outputs": [],
   "source": []
  },
  {
   "cell_type": "code",
   "execution_count": null,
   "metadata": {},
   "outputs": [],
   "source": [
    "class DecoderBlock(nn.Module):\n",
    "    def __init__(self, embedding_dim, num_heads=8):\n",
    "        super(DecoderBlock, self).__init__()\n",
    "\n",
    "        self.masked_attention = MultiHeadAttention(embedding_dim, num_heads)\n",
    "        self.norm1 = nn.LayerNorm(embedding_dim)\n",
    "\n",
    "        self.cross_attention = MultiHeadAttention(embedding_dim, num_heads)\n",
    "        self.norm2 = nn.LayerNorm(embedding_dim)\n",
    "\n",
    "        self.feed_forward = nn.Sequential(\n",
    "            nn.Linear(embedding_dim, 4 * embedding_dim),\n",
    "            nn.ReLU(),\n",
    "            nn.Linear(4 * embedding_dim, embedding_dim)\n",
    "        )\n",
    "\n",
    "        self.norm3 = nn.LayerNorm(embedding_dim)\n",
    "        self.dropout = nn.Dropout(0.2)\n",
    "\n",
    "    def forward(self, x, encoder_output, mask=None):\n",
    "        # Masked Self-Attention\n",
    "        masked_attention_scores = self.masked_attention(x, x, x, mask)\n",
    "        masked_attention_with_residual = masked_attention_scores + x\n",
    "        norm1_out = self.dropout(self.norm1(masked_attention_with_residual))\n",
    "\n",
    "        # Cross-Attention (Query from decoder, Key/Value from encoder output)\n",
    "        cross_attention_scores = self.cross_attention(encoder_output, norm1_out, encoder_output)\n",
    "        cross_attention_with_residual = cross_attention_scores + norm1_out\n",
    "        norm2_out = self.dropout(self.norm2(cross_attention_with_residual))\n",
    "\n",
    "        # Feed Forward Network\n",
    "        ff_out = self.feed_forward(norm2_out)\n",
    "        ff_out_with_residual = ff_out + norm2_out\n",
    "        norm3_out = self.dropout(self.norm3(ff_out_with_residual))\n",
    "\n",
    "        return norm3_out\n",
    "\n",
    "class TransformerDecoder(nn.Module):\n",
    "    def __init__(self, vocab_size, seq_length, embedding_dim, num_layers=2, num_heads=8):\n",
    "        super(TransformerDecoder, self).__init__()\n",
    "\n",
    "        self.embedding_layer = Embedding(vocab_size, embedding_dim)\n",
    "        self.positional_encoder = PositionalEncoding(seq_length, embedding_dim)\n",
    "        self.layers = nn.ModuleList(\n",
    "            [DecoderBlock(embedding_dim, num_heads) for _ in range(num_layers)]\n",
    "        )\n",
    "\n",
    "    def forward(self, x, encoder_output, mask=None):\n",
    "        embedding_output = self.embedding_layer(x)\n",
    "        print(f'Embedding output shape is: {embedding_output.shape}')\n",
    "        positional_encoding = self.positional_encoder(embedding_output)\n",
    "\n",
    "        out = positional_encoding\n",
    "        for layer in self.layers:\n",
    "            out = layer(out, encoder_output, mask)\n",
    "\n",
    "        return out\n"
   ]
  }
 ],
 "metadata": {
  "colab": {
   "provenance": []
  },
  "kernelspec": {
   "display_name": "torch",
   "language": "python",
   "name": "torch"
  },
  "language_info": {
   "codemirror_mode": {
    "name": "ipython",
    "version": 3
   },
   "file_extension": ".py",
   "mimetype": "text/x-python",
   "name": "python",
   "nbconvert_exporter": "python",
   "pygments_lexer": "ipython3",
   "version": "3.11.4"
  }
 },
 "nbformat": 4,
 "nbformat_minor": 4
}
