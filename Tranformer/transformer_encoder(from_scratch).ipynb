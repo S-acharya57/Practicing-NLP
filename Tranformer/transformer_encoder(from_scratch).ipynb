{
  "nbformat": 4,
  "nbformat_minor": 0,
  "metadata": {
    "colab": {
      "provenance": []
    },
    "kernelspec": {
      "name": "python3",
      "display_name": "Python 3"
    },
    "language_info": {
      "name": "python"
    }
  },
  "cells": [
    {
      "cell_type": "code",
      "execution_count": 1,
      "metadata": {
        "id": "dM1z4JZ2no8A"
      },
      "outputs": [],
      "source": [
        "import torch\n",
        "import torch.nn as nn\n",
        "import torch.nn.functional as F\n",
        "import math\n",
        "import numpy as np"
      ]
    },
    {
      "cell_type": "code",
      "source": [
        "class Embedding(nn.Module):\n",
        "    def __init__(self, vocab_size, embedding_dim):\n",
        "        super(Embedding, self).__init__()\n",
        "        self.embedding = nn.Embedding(vocab_size, embedding_dim)\n",
        "\n",
        "    def forward(self, x):\n",
        "        return self.embedding(x)"
      ],
      "metadata": {
        "id": "Y0nurxJYZHAG"
      },
      "execution_count": 2,
      "outputs": []
    },
    {
      "cell_type": "code",
      "source": [
        "# for length of 12\n",
        "Embedding(100, 512).forward(torch.tensor([[0, 2, 5, 6, 4, 3, 9, 5, 2, 9, 10, 1],\n",
        "                    [0, 2, 8, 7, 3, 4, 5, 6, 7, 2, 10, 1]])).shape"
      ],
      "metadata": {
        "colab": {
          "base_uri": "https://localhost:8080/"
        },
        "id": "rEW9EZBdd2dH",
        "outputId": "24211ed9-8f39-4219-adf0-cc955c6b6ffa"
      },
      "execution_count": 3,
      "outputs": [
        {
          "output_type": "execute_result",
          "data": {
            "text/plain": [
              "torch.Size([2, 12, 512])"
            ]
          },
          "metadata": {},
          "execution_count": 3
        }
      ]
    },
    {
      "cell_type": "code",
      "source": [
        "class PositionalEncoding(nn.Module):\n",
        "    def __init__(self, seq_length, embedding_dim):\n",
        "        super(PositionalEncoding, self).__init__()\n",
        "        self.embedding_dim = embedding_dim\n",
        "        self.pv = torch.zeros(seq_length, self.embedding_dim)\n",
        "        self.seq_length = seq_length\n",
        "\n",
        "    def forward(self, embedded_x):\n",
        "        \"\"\"\n",
        "            Function to return positional encoding with combination of word embeddings\n",
        "            and positional vector\n",
        "        Arguments:\n",
        "            pe: Positional vector variable of that shape\n",
        "            self.embedding_dim: Dimension of the vector required for the model\n",
        "            pos_encoding: Variable to hold final positional Encoding of the word\n",
        "        \"\"\"\n",
        "        seq_length = embedded_x.shape[1]\n",
        "        pos_encoding = torch.zeros_like(embedded_x)\n",
        "        for batch_idx, batch in enumerate(pos_encoding):\n",
        "            # print(f'batch shape: {batch.shape}')\n",
        "            for pos, emb in enumerate(batch):\n",
        "                emb = emb.reshape(1, -1)\n",
        "                for i in range(0,self.embedding_dim, 2):\n",
        "                    self.pv[0][i] = np.sin(pos/10000**((2*i)/self.embedding_dim))\n",
        "                    # print(pos, i, pos_encoding.shape)\n",
        "                    # print(pos_encoding[pos][i])\n",
        "\n",
        "                    # Value of the word embedding is increased by the product with sqrt of 512\n",
        "                    # Simple addition of the positional information to the word embedding\n",
        "                    pos_encoding[batch_idx][pos][i] = (emb[0][i] * np.sqrt(self.embedding_dim)) + self.pv[0][i]\n",
        "\n",
        "                    self.pv[0][i+1] = np.cos(pos/10000**((2*i)/self.embedding_dim))\n",
        "                    pos_encoding[batch_idx][pos][i+1] = (emb[0][i+1] * np.sqrt(self.embedding_dim)) + self.pv[0][i+1]\n",
        "        return pos_encoding\n"
      ],
      "metadata": {
        "id": "XyITB406ZRXi"
      },
      "execution_count": 37,
      "outputs": []
    },
    {
      "cell_type": "code",
      "source": [
        "PositionalEncoding(10, 512).forward(torch.rand(10,12,512)).shape"
      ],
      "metadata": {
        "id": "pVDmTcqIqzpF",
        "colab": {
          "base_uri": "https://localhost:8080/"
        },
        "outputId": "3f0f3a7e-b23a-4fa7-c2f1-a20c8b519f59"
      },
      "execution_count": 38,
      "outputs": [
        {
          "output_type": "execute_result",
          "data": {
            "text/plain": [
              "torch.Size([10, 12, 512])"
            ]
          },
          "metadata": {},
          "execution_count": 38
        }
      ]
    },
    {
      "cell_type": "code",
      "source": [
        "# # PositionalEncoding(10, 512).forward(torch.rand((10,512))).shape\n",
        "# rand_ = torch.rand(10, 10, 512)\n",
        "# # embeddings_temporary = torch.tensor([PositionalEncoding(10, 512).forward(r) for r in rand_])\n",
        "# embeddings_temporary = torch.tensor([])\n",
        "# for r in rand_:\n",
        "#     for m in r:\n",
        "#         print(m.reshape(1,-1).shape)\n",
        "#         break"
      ],
      "metadata": {
        "id": "1tJkeqU_kNTr"
      },
      "execution_count": 40,
      "outputs": []
    },
    {
      "cell_type": "code",
      "source": [
        "class MultiHeadAttention(nn.Module):\n",
        "    def __init__(self, embedding_dim=512, num_heads=8):\n",
        "        super(MultiHeadAttention, self).__init__()\n",
        "\n",
        "        self.embedding_dim = embedding_dim\n",
        "        self.num_heads = num_heads\n",
        "\n",
        "        self.single_head_dim = int(self.embedding_dim/self.num_heads)\n",
        "\n",
        "        self.query_mat = nn.Linear(self.single_head_dim, self.single_head_dim, bias=False)\n",
        "        self.key_mat = nn.Linear(self.single_head_dim, self.single_head_dim, bias=False)\n",
        "        self.value_mat = nn.Linear(self.single_head_dim, self.single_head_dim, bias=False)\n",
        "\n",
        "        self.out = nn.Linear(self.num_heads * self.single_head_dim, self.embedding_dim)\n",
        "\n",
        "    def forward(self, key, query, value, mask=None):\n",
        "        # [BS, seq_len, embedding_dim]\n",
        "        batch_size = key.size(0)\n",
        "        seq_length = key.size(1)\n",
        "\n",
        "        # seq length can vary in decoder since it comes from lower decoder, not encoder\n",
        "        seq_length_query = query.size(1)\n",
        "\n",
        "        # reshaping it as [BS, seq_length, num_heads, single_head_dim]\n",
        "        # embedding_dim = num_heads * single_head_dim\n",
        "        # each word has 512 dim, 64 dim in each head\n",
        "        # whole sequence has 10 words, so!\n",
        "        key = key.view(batch_size, seq_length, self.num_heads, self.single_head_dim)\n",
        "        query = query.view(batch_size, seq_length, self.num_heads, self.single_head_dim)\n",
        "        value = value.view(batch_size, seq_length, self.num_heads, self.single_head_dim)\n",
        "\n",
        "        k = self.key_mat(key) #[32x8x64x10]\n",
        "        q = self.query_mat(query) #[32x8x64x10]\n",
        "        v = self.value_mat(value) #[32x8x64x10]\n",
        "\n",
        "        q = q.transpose(1, 2) #[32x8x10x64]\n",
        "        k = k.transpose(1, 2)\n",
        "        v = v.transpose(1, 2)\n",
        "\n",
        "        # for transpose of k\n",
        "        k_transposed = k.transpose(-1,-2) # 32x8x10x64\n",
        "\n",
        "        product = torch.matmul(q, k_transposed) # 32x8x10x10\n",
        "\n",
        "        if mask is not None:\n",
        "            pass\n",
        "\n",
        "        product = product / math.sqrt(self.single_head_dim)\n",
        "        print(f'Shape of product is {product.shape}')\n",
        "        # softmax scores\n",
        "        softmax_scores = F.softmax(product, dim=1) # 32x8x10x10\n",
        "\n",
        "        # final attention scores\n",
        "        scores = torch.matmul(softmax_scores, v) # 32x8x10x64\n",
        "\n",
        "        concat = scores.transpose(1,2).contiguous().view(batch_size, seq_length_query, self.single_head_dim * self.num_heads)\n",
        "        #32x10x512\n",
        "\n",
        "        output = self.out(concat) # 32x10x512\n",
        "\n",
        "        return output"
      ],
      "metadata": {
        "id": "qOLjoVjqntxe"
      },
      "execution_count": 41,
      "outputs": []
    },
    {
      "cell_type": "code",
      "source": [
        "mha = MultiHeadAttention()"
      ],
      "metadata": {
        "id": "L1tFTotQNJlY"
      },
      "execution_count": 42,
      "outputs": []
    },
    {
      "cell_type": "code",
      "source": [
        "rand = torch.randn(32,10,512)\n",
        "mha.forward(rand, rand, rand).shape"
      ],
      "metadata": {
        "colab": {
          "base_uri": "https://localhost:8080/"
        },
        "id": "YWAKqpHmNbrR",
        "outputId": "18c2cea3-a1d5-485f-e624-aa9b18140bd3"
      },
      "execution_count": 43,
      "outputs": [
        {
          "output_type": "stream",
          "name": "stdout",
          "text": [
            "Shape of product is torch.Size([32, 8, 10, 10])\n"
          ]
        },
        {
          "output_type": "execute_result",
          "data": {
            "text/plain": [
              "torch.Size([32, 10, 512])"
            ]
          },
          "metadata": {},
          "execution_count": 43
        }
      ]
    },
    {
      "cell_type": "code",
      "source": [
        "class EncoderBlock(nn.Module):\n",
        "    def __init__(self, embedding_dim, num_heads = 8):\n",
        "        super(EncoderBlock, self).__init__()\n",
        "\n",
        "        self.attention = MultiHeadAttention(embedding_dim, num_heads)\n",
        "\n",
        "        self.norm = nn.LayerNorm(embedding_dim)\n",
        "\n",
        "        self.feed_forward = nn.Sequential(\n",
        "            nn.Linear(embedding_dim, 4*embedding_dim),\n",
        "            nn.ReLU(),\n",
        "            nn.Linear(4*embedding_dim, embedding_dim)\n",
        "        )\n",
        "\n",
        "        self.dropout = nn.Dropout(0.2)\n",
        "\n",
        "    def forward(self, key, query, value):\n",
        "        attention_scores = self.attention(key, query, value)\n",
        "        attention_with_residual = attention_scores + value # 32x10x512\n",
        "        norm1_out = self.dropout(self.norm(attention_with_residual))\n",
        "\n",
        "        ff_out = self.feed_forward(norm1_out)\n",
        "\n",
        "        ff_out_with_residual = ff_out + norm1_out\n",
        "\n",
        "        norm2_out = self.dropout(self.norm(ff_out_with_residual))\n",
        "\n",
        "        return norm2_out"
      ],
      "metadata": {
        "id": "ElkrL00DOKxM"
      },
      "execution_count": 44,
      "outputs": []
    },
    {
      "cell_type": "code",
      "source": [
        "class TransformerEncoder(nn.Module):\n",
        "    def __init__(self, vocab_size, seq_length, embedding_dim, num_layers=2, num_heads=8):\n",
        "        super(TransformerEncoder, self).__init__()\n",
        "\n",
        "        self.embedding_layer = Embedding(vocab_size, embedding_dim)\n",
        "        self.positional_encoder = PositionalEncoding(seq_length, embedding_dim)\n",
        "        self.layers = nn.ModuleList(\n",
        "            [EncoderBlock(embedding_dim, num_heads) for i in range(num_layers)]\n",
        "        )\n",
        "\n",
        "    def forward(self, x):\n",
        "        embedding_output = self.embedding_layer(x)\n",
        "        print(f'Embedding output shape is: {embedding_output.shape}')\n",
        "        positional_encoding = self.positional_encoder(embedding_output)\n",
        "\n",
        "        # for first encoder that takes in the positional encoding vector\n",
        "        out = positional_encoding\n",
        "        for layer in self.layers:\n",
        "            out = layer(out, out, out)\n",
        "\n",
        "        return out"
      ],
      "metadata": {
        "id": "zL-QzEMfU8u8"
      },
      "execution_count": 45,
      "outputs": []
    },
    {
      "cell_type": "code",
      "source": [
        "te = TransformerEncoder(vocab_size=100, seq_length=10, embedding_dim=512, num_layers=2, num_heads=8)\n",
        "te"
      ],
      "metadata": {
        "colab": {
          "base_uri": "https://localhost:8080/"
        },
        "id": "Ln5ntuetclb2",
        "outputId": "ffb14dd8-a157-45ef-efbb-5784d8ddf3d6"
      },
      "execution_count": 46,
      "outputs": [
        {
          "output_type": "execute_result",
          "data": {
            "text/plain": [
              "TransformerEncoder(\n",
              "  (embedding_layer): Embedding(\n",
              "    (embedding): Embedding(100, 512)\n",
              "  )\n",
              "  (positional_encoder): PositionalEncoding()\n",
              "  (layers): ModuleList(\n",
              "    (0-1): 2 x EncoderBlock(\n",
              "      (attention): MultiHeadAttention(\n",
              "        (query_mat): Linear(in_features=64, out_features=64, bias=False)\n",
              "        (key_mat): Linear(in_features=64, out_features=64, bias=False)\n",
              "        (value_mat): Linear(in_features=64, out_features=64, bias=False)\n",
              "        (out): Linear(in_features=512, out_features=512, bias=True)\n",
              "      )\n",
              "      (norm): LayerNorm((512,), eps=1e-05, elementwise_affine=True)\n",
              "      (feed_forward): Sequential(\n",
              "        (0): Linear(in_features=512, out_features=2048, bias=True)\n",
              "        (1): ReLU()\n",
              "        (2): Linear(in_features=2048, out_features=512, bias=True)\n",
              "      )\n",
              "      (dropout): Dropout(p=0.2, inplace=False)\n",
              "    )\n",
              "  )\n",
              ")"
            ]
          },
          "metadata": {},
          "execution_count": 46
        }
      ]
    },
    {
      "cell_type": "code",
      "source": [
        "source = torch.tensor([[3,21,4,6,1,3,5,34,3,1,3,5,1,3,67,8,3,67,4],\n",
        "                       [3,43,3,5,1,3,67,8,3,67,4,34,23,4,1,3,4,65,2]])\n",
        "target = torch.randn(1,10)\n",
        "source.shape , target.shape"
      ],
      "metadata": {
        "colab": {
          "base_uri": "https://localhost:8080/"
        },
        "id": "NKye0GQacp64",
        "outputId": "7c57551f-a977-45be-aa2c-8f7945fcecdc"
      },
      "execution_count": 47,
      "outputs": [
        {
          "output_type": "execute_result",
          "data": {
            "text/plain": [
              "(torch.Size([2, 19]), torch.Size([1, 10]))"
            ]
          },
          "metadata": {},
          "execution_count": 47
        }
      ]
    },
    {
      "cell_type": "code",
      "source": [
        "te.forward(source).shape"
      ],
      "metadata": {
        "colab": {
          "base_uri": "https://localhost:8080/"
        },
        "id": "07BHEfxzdzCi",
        "outputId": "c2a5058d-654a-4a86-b677-3fbf18e38de1"
      },
      "execution_count": 49,
      "outputs": [
        {
          "output_type": "stream",
          "name": "stdout",
          "text": [
            "Embedding output shape is: torch.Size([2, 19, 512])\n",
            "Shape of product is torch.Size([2, 8, 19, 19])\n",
            "Shape of product is torch.Size([2, 8, 19, 19])\n"
          ]
        },
        {
          "output_type": "execute_result",
          "data": {
            "text/plain": [
              "torch.Size([2, 19, 512])"
            ]
          },
          "metadata": {},
          "execution_count": 49
        }
      ]
    },
    {
      "cell_type": "code",
      "source": [],
      "metadata": {
        "id": "OiNYGmU-fLRX"
      },
      "execution_count": null,
      "outputs": []
    }
  ]
}