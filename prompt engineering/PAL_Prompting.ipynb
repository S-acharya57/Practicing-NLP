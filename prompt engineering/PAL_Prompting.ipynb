{
  "nbformat": 4,
  "nbformat_minor": 0,
  "metadata": {
    "colab": {
      "provenance": []
    },
    "kernelspec": {
      "name": "python3",
      "display_name": "Python 3"
    },
    "language_info": {
      "name": "python"
    }
  },
  "cells": [
    {
      "cell_type": "markdown",
      "source": [
        "# PAL\n",
        "- Program-Aided Language Models\n",
        "\n",
        "- uses programmatic runtime i.e. instead of chain of thoughts, give solutions like python scripts\n"
      ],
      "metadata": {
        "id": "DD6jMqKbxQhi"
      }
    },
    {
      "cell_type": "code",
      "source": [
        "!pip install openai langchain transformers langchain_community"
      ],
      "metadata": {
        "colab": {
          "base_uri": "https://localhost:8080/"
        },
        "id": "QoS4fAP3xV9-",
        "outputId": "52600ded-ee00-4940-e06c-bad015468ee4"
      },
      "execution_count": 1,
      "outputs": [
        {
          "output_type": "stream",
          "name": "stdout",
          "text": [
            "Collecting openai\n",
            "  Downloading openai-1.47.0-py3-none-any.whl.metadata (24 kB)\n",
            "Collecting langchain\n",
            "  Downloading langchain-0.3.0-py3-none-any.whl.metadata (7.1 kB)\n",
            "Requirement already satisfied: transformers in /usr/local/lib/python3.10/dist-packages (4.44.2)\n",
            "Collecting langchain_community\n",
            "  Downloading langchain_community-0.3.0-py3-none-any.whl.metadata (2.8 kB)\n",
            "Requirement already satisfied: anyio<5,>=3.5.0 in /usr/local/lib/python3.10/dist-packages (from openai) (3.7.1)\n",
            "Requirement already satisfied: distro<2,>=1.7.0 in /usr/lib/python3/dist-packages (from openai) (1.7.0)\n",
            "Collecting httpx<1,>=0.23.0 (from openai)\n",
            "  Downloading httpx-0.27.2-py3-none-any.whl.metadata (7.1 kB)\n",
            "Collecting jiter<1,>=0.4.0 (from openai)\n",
            "  Downloading jiter-0.5.0-cp310-cp310-manylinux_2_17_x86_64.manylinux2014_x86_64.whl.metadata (3.6 kB)\n",
            "Requirement already satisfied: pydantic<3,>=1.9.0 in /usr/local/lib/python3.10/dist-packages (from openai) (2.9.2)\n",
            "Requirement already satisfied: sniffio in /usr/local/lib/python3.10/dist-packages (from openai) (1.3.1)\n",
            "Requirement already satisfied: tqdm>4 in /usr/local/lib/python3.10/dist-packages (from openai) (4.66.5)\n",
            "Requirement already satisfied: typing-extensions<5,>=4.11 in /usr/local/lib/python3.10/dist-packages (from openai) (4.12.2)\n",
            "Requirement already satisfied: PyYAML>=5.3 in /usr/local/lib/python3.10/dist-packages (from langchain) (6.0.2)\n",
            "Requirement already satisfied: SQLAlchemy<3,>=1.4 in /usr/local/lib/python3.10/dist-packages (from langchain) (2.0.35)\n",
            "Requirement already satisfied: aiohttp<4.0.0,>=3.8.3 in /usr/local/lib/python3.10/dist-packages (from langchain) (3.10.5)\n",
            "Requirement already satisfied: async-timeout<5.0.0,>=4.0.0 in /usr/local/lib/python3.10/dist-packages (from langchain) (4.0.3)\n",
            "Collecting langchain-core<0.4.0,>=0.3.0 (from langchain)\n",
            "  Downloading langchain_core-0.3.5-py3-none-any.whl.metadata (6.3 kB)\n",
            "Collecting langchain-text-splitters<0.4.0,>=0.3.0 (from langchain)\n",
            "  Downloading langchain_text_splitters-0.3.0-py3-none-any.whl.metadata (2.3 kB)\n",
            "Collecting langsmith<0.2.0,>=0.1.17 (from langchain)\n",
            "  Downloading langsmith-0.1.125-py3-none-any.whl.metadata (13 kB)\n",
            "Requirement already satisfied: numpy<2,>=1 in /usr/local/lib/python3.10/dist-packages (from langchain) (1.26.4)\n",
            "Requirement already satisfied: requests<3,>=2 in /usr/local/lib/python3.10/dist-packages (from langchain) (2.32.3)\n",
            "Collecting tenacity!=8.4.0,<9.0.0,>=8.1.0 (from langchain)\n",
            "  Downloading tenacity-8.5.0-py3-none-any.whl.metadata (1.2 kB)\n",
            "Requirement already satisfied: filelock in /usr/local/lib/python3.10/dist-packages (from transformers) (3.16.1)\n",
            "Requirement already satisfied: huggingface-hub<1.0,>=0.23.2 in /usr/local/lib/python3.10/dist-packages (from transformers) (0.24.7)\n",
            "Requirement already satisfied: packaging>=20.0 in /usr/local/lib/python3.10/dist-packages (from transformers) (24.1)\n",
            "Requirement already satisfied: regex!=2019.12.17 in /usr/local/lib/python3.10/dist-packages (from transformers) (2024.9.11)\n",
            "Requirement already satisfied: safetensors>=0.4.1 in /usr/local/lib/python3.10/dist-packages (from transformers) (0.4.5)\n",
            "Requirement already satisfied: tokenizers<0.20,>=0.19 in /usr/local/lib/python3.10/dist-packages (from transformers) (0.19.1)\n",
            "Collecting dataclasses-json<0.7,>=0.5.7 (from langchain_community)\n",
            "  Downloading dataclasses_json-0.6.7-py3-none-any.whl.metadata (25 kB)\n",
            "Collecting pydantic-settings<3.0.0,>=2.4.0 (from langchain_community)\n",
            "  Downloading pydantic_settings-2.5.2-py3-none-any.whl.metadata (3.5 kB)\n",
            "Requirement already satisfied: aiohappyeyeballs>=2.3.0 in /usr/local/lib/python3.10/dist-packages (from aiohttp<4.0.0,>=3.8.3->langchain) (2.4.0)\n",
            "Requirement already satisfied: aiosignal>=1.1.2 in /usr/local/lib/python3.10/dist-packages (from aiohttp<4.0.0,>=3.8.3->langchain) (1.3.1)\n",
            "Requirement already satisfied: attrs>=17.3.0 in /usr/local/lib/python3.10/dist-packages (from aiohttp<4.0.0,>=3.8.3->langchain) (24.2.0)\n",
            "Requirement already satisfied: frozenlist>=1.1.1 in /usr/local/lib/python3.10/dist-packages (from aiohttp<4.0.0,>=3.8.3->langchain) (1.4.1)\n",
            "Requirement already satisfied: multidict<7.0,>=4.5 in /usr/local/lib/python3.10/dist-packages (from aiohttp<4.0.0,>=3.8.3->langchain) (6.1.0)\n",
            "Requirement already satisfied: yarl<2.0,>=1.0 in /usr/local/lib/python3.10/dist-packages (from aiohttp<4.0.0,>=3.8.3->langchain) (1.11.1)\n",
            "Requirement already satisfied: idna>=2.8 in /usr/local/lib/python3.10/dist-packages (from anyio<5,>=3.5.0->openai) (3.10)\n",
            "Requirement already satisfied: exceptiongroup in /usr/local/lib/python3.10/dist-packages (from anyio<5,>=3.5.0->openai) (1.2.2)\n",
            "Collecting marshmallow<4.0.0,>=3.18.0 (from dataclasses-json<0.7,>=0.5.7->langchain_community)\n",
            "  Downloading marshmallow-3.22.0-py3-none-any.whl.metadata (7.2 kB)\n",
            "Collecting typing-inspect<1,>=0.4.0 (from dataclasses-json<0.7,>=0.5.7->langchain_community)\n",
            "  Downloading typing_inspect-0.9.0-py3-none-any.whl.metadata (1.5 kB)\n",
            "Requirement already satisfied: certifi in /usr/local/lib/python3.10/dist-packages (from httpx<1,>=0.23.0->openai) (2024.8.30)\n",
            "Collecting httpcore==1.* (from httpx<1,>=0.23.0->openai)\n",
            "  Downloading httpcore-1.0.5-py3-none-any.whl.metadata (20 kB)\n",
            "Collecting h11<0.15,>=0.13 (from httpcore==1.*->httpx<1,>=0.23.0->openai)\n",
            "  Downloading h11-0.14.0-py3-none-any.whl.metadata (8.2 kB)\n",
            "Requirement already satisfied: fsspec>=2023.5.0 in /usr/local/lib/python3.10/dist-packages (from huggingface-hub<1.0,>=0.23.2->transformers) (2024.6.1)\n",
            "Collecting jsonpatch<2.0,>=1.33 (from langchain-core<0.4.0,>=0.3.0->langchain)\n",
            "  Downloading jsonpatch-1.33-py2.py3-none-any.whl.metadata (3.0 kB)\n",
            "Collecting orjson<4.0.0,>=3.9.14 (from langsmith<0.2.0,>=0.1.17->langchain)\n",
            "  Downloading orjson-3.10.7-cp310-cp310-manylinux_2_17_x86_64.manylinux2014_x86_64.whl.metadata (50 kB)\n",
            "\u001b[2K     \u001b[90m━━━━━━━━━━━━━━━━━━━━━━━━━━━━━━━━━━━━━━━━\u001b[0m \u001b[32m50.4/50.4 kB\u001b[0m \u001b[31m1.7 MB/s\u001b[0m eta \u001b[36m0:00:00\u001b[0m\n",
            "\u001b[?25hRequirement already satisfied: annotated-types>=0.6.0 in /usr/local/lib/python3.10/dist-packages (from pydantic<3,>=1.9.0->openai) (0.7.0)\n",
            "Requirement already satisfied: pydantic-core==2.23.4 in /usr/local/lib/python3.10/dist-packages (from pydantic<3,>=1.9.0->openai) (2.23.4)\n",
            "Collecting python-dotenv>=0.21.0 (from pydantic-settings<3.0.0,>=2.4.0->langchain_community)\n",
            "  Downloading python_dotenv-1.0.1-py3-none-any.whl.metadata (23 kB)\n",
            "Requirement already satisfied: charset-normalizer<4,>=2 in /usr/local/lib/python3.10/dist-packages (from requests<3,>=2->langchain) (3.3.2)\n",
            "Requirement already satisfied: urllib3<3,>=1.21.1 in /usr/local/lib/python3.10/dist-packages (from requests<3,>=2->langchain) (2.0.7)\n",
            "Requirement already satisfied: greenlet!=0.4.17 in /usr/local/lib/python3.10/dist-packages (from SQLAlchemy<3,>=1.4->langchain) (3.1.0)\n",
            "Collecting jsonpointer>=1.9 (from jsonpatch<2.0,>=1.33->langchain-core<0.4.0,>=0.3.0->langchain)\n",
            "  Downloading jsonpointer-3.0.0-py2.py3-none-any.whl.metadata (2.3 kB)\n",
            "Collecting mypy-extensions>=0.3.0 (from typing-inspect<1,>=0.4.0->dataclasses-json<0.7,>=0.5.7->langchain_community)\n",
            "  Downloading mypy_extensions-1.0.0-py3-none-any.whl.metadata (1.1 kB)\n",
            "Downloading openai-1.47.0-py3-none-any.whl (375 kB)\n",
            "\u001b[2K   \u001b[90m━━━━━━━━━━━━━━━━━━━━━━━━━━━━━━━━━━━━━━━━\u001b[0m \u001b[32m375.6/375.6 kB\u001b[0m \u001b[31m14.3 MB/s\u001b[0m eta \u001b[36m0:00:00\u001b[0m\n",
            "\u001b[?25hDownloading langchain-0.3.0-py3-none-any.whl (1.0 MB)\n",
            "\u001b[2K   \u001b[90m━━━━━━━━━━━━━━━━━━━━━━━━━━━━━━━━━━━━━━━━\u001b[0m \u001b[32m1.0/1.0 MB\u001b[0m \u001b[31m31.1 MB/s\u001b[0m eta \u001b[36m0:00:00\u001b[0m\n",
            "\u001b[?25hDownloading langchain_community-0.3.0-py3-none-any.whl (2.3 MB)\n",
            "\u001b[2K   \u001b[90m━━━━━━━━━━━━━━━━━━━━━━━━━━━━━━━━━━━━━━━━\u001b[0m \u001b[32m2.3/2.3 MB\u001b[0m \u001b[31m53.5 MB/s\u001b[0m eta \u001b[36m0:00:00\u001b[0m\n",
            "\u001b[?25hDownloading dataclasses_json-0.6.7-py3-none-any.whl (28 kB)\n",
            "Downloading httpx-0.27.2-py3-none-any.whl (76 kB)\n",
            "\u001b[2K   \u001b[90m━━━━━━━━━━━━━━━━━━━━━━━━━━━━━━━━━━━━━━━━\u001b[0m \u001b[32m76.4/76.4 kB\u001b[0m \u001b[31m4.8 MB/s\u001b[0m eta \u001b[36m0:00:00\u001b[0m\n",
            "\u001b[?25hDownloading httpcore-1.0.5-py3-none-any.whl (77 kB)\n",
            "\u001b[2K   \u001b[90m━━━━━━━━━━━━━━━━━━━━━━━━━━━━━━━━━━━━━━━━\u001b[0m \u001b[32m77.9/77.9 kB\u001b[0m \u001b[31m5.1 MB/s\u001b[0m eta \u001b[36m0:00:00\u001b[0m\n",
            "\u001b[?25hDownloading jiter-0.5.0-cp310-cp310-manylinux_2_17_x86_64.manylinux2014_x86_64.whl (318 kB)\n",
            "\u001b[2K   \u001b[90m━━━━━━━━━━━━━━━━━━━━━━━━━━━━━━━━━━━━━━━━\u001b[0m \u001b[32m318.9/318.9 kB\u001b[0m \u001b[31m18.8 MB/s\u001b[0m eta \u001b[36m0:00:00\u001b[0m\n",
            "\u001b[?25hDownloading langchain_core-0.3.5-py3-none-any.whl (399 kB)\n",
            "\u001b[2K   \u001b[90m━━━━━━━━━━━━━━━━━━━━━━━━━━━━━━━━━━━━━━━━\u001b[0m \u001b[32m399.9/399.9 kB\u001b[0m \u001b[31m21.1 MB/s\u001b[0m eta \u001b[36m0:00:00\u001b[0m\n",
            "\u001b[?25hDownloading langchain_text_splitters-0.3.0-py3-none-any.whl (25 kB)\n",
            "Downloading langsmith-0.1.125-py3-none-any.whl (290 kB)\n",
            "\u001b[2K   \u001b[90m━━━━━━━━━━━━━━━━━━━━━━━━━━━━━━━━━━━━━━━━\u001b[0m \u001b[32m290.2/290.2 kB\u001b[0m \u001b[31m16.0 MB/s\u001b[0m eta \u001b[36m0:00:00\u001b[0m\n",
            "\u001b[?25hDownloading pydantic_settings-2.5.2-py3-none-any.whl (26 kB)\n",
            "Downloading tenacity-8.5.0-py3-none-any.whl (28 kB)\n",
            "Downloading jsonpatch-1.33-py2.py3-none-any.whl (12 kB)\n",
            "Downloading marshmallow-3.22.0-py3-none-any.whl (49 kB)\n",
            "\u001b[2K   \u001b[90m━━━━━━━━━━━━━━━━━━━━━━━━━━━━━━━━━━━━━━━━\u001b[0m \u001b[32m49.3/49.3 kB\u001b[0m \u001b[31m3.4 MB/s\u001b[0m eta \u001b[36m0:00:00\u001b[0m\n",
            "\u001b[?25hDownloading orjson-3.10.7-cp310-cp310-manylinux_2_17_x86_64.manylinux2014_x86_64.whl (141 kB)\n",
            "\u001b[2K   \u001b[90m━━━━━━━━━━━━━━━━━━━━━━━━━━━━━━━━━━━━━━━━\u001b[0m \u001b[32m141.9/141.9 kB\u001b[0m \u001b[31m10.0 MB/s\u001b[0m eta \u001b[36m0:00:00\u001b[0m\n",
            "\u001b[?25hDownloading python_dotenv-1.0.1-py3-none-any.whl (19 kB)\n",
            "Downloading typing_inspect-0.9.0-py3-none-any.whl (8.8 kB)\n",
            "Downloading h11-0.14.0-py3-none-any.whl (58 kB)\n",
            "\u001b[2K   \u001b[90m━━━━━━━━━━━━━━━━━━━━━━━━━━━━━━━━━━━━━━━━\u001b[0m \u001b[32m58.3/58.3 kB\u001b[0m \u001b[31m4.2 MB/s\u001b[0m eta \u001b[36m0:00:00\u001b[0m\n",
            "\u001b[?25hDownloading jsonpointer-3.0.0-py2.py3-none-any.whl (7.6 kB)\n",
            "Downloading mypy_extensions-1.0.0-py3-none-any.whl (4.7 kB)\n",
            "Installing collected packages: tenacity, python-dotenv, orjson, mypy-extensions, marshmallow, jsonpointer, jiter, h11, typing-inspect, jsonpatch, httpcore, pydantic-settings, httpx, dataclasses-json, openai, langsmith, langchain-core, langchain-text-splitters, langchain, langchain_community\n",
            "  Attempting uninstall: tenacity\n",
            "    Found existing installation: tenacity 9.0.0\n",
            "    Uninstalling tenacity-9.0.0:\n",
            "      Successfully uninstalled tenacity-9.0.0\n",
            "Successfully installed dataclasses-json-0.6.7 h11-0.14.0 httpcore-1.0.5 httpx-0.27.2 jiter-0.5.0 jsonpatch-1.33 jsonpointer-3.0.0 langchain-0.3.0 langchain-core-0.3.5 langchain-text-splitters-0.3.0 langchain_community-0.3.0 langsmith-0.1.125 marshmallow-3.22.0 mypy-extensions-1.0.0 openai-1.47.0 orjson-3.10.7 pydantic-settings-2.5.2 python-dotenv-1.0.1 tenacity-8.5.0 typing-inspect-0.9.0\n"
          ]
        }
      ]
    },
    {
      "cell_type": "code",
      "source": [
        "from openai import OpenAI"
      ],
      "metadata": {
        "id": "jjMbV25t-INm"
      },
      "execution_count": 15,
      "outputs": []
    },
    {
      "cell_type": "code",
      "source": [
        "\n",
        "from datetime import datetime\n",
        "from dateutil.relativedelta import relativedelta\n"
      ],
      "metadata": {
        "id": "bh4M789uwcmp"
      },
      "execution_count": 10,
      "outputs": []
    },
    {
      "cell_type": "code",
      "execution_count": 19,
      "metadata": {
        "id": "3ni8isMFwT2T"
      },
      "outputs": [],
      "source": []
    },
    {
      "cell_type": "code",
      "source": [
        "api= \"<YOUR_API_KEY>\""
      ],
      "metadata": {
        "id": "bd60_GmHyY7q"
      },
      "execution_count": 67,
      "outputs": []
    },
    {
      "cell_type": "code",
      "source": [
        "client = OpenAI(api_key=api)\n",
        "client"
      ],
      "metadata": {
        "colab": {
          "base_uri": "https://localhost:8080/"
        },
        "id": "gAJ9x-XN_TTd",
        "outputId": "facbb4f4-c93a-4f48-ecef-376c7cf326e8"
      },
      "execution_count": 19,
      "outputs": [
        {
          "output_type": "execute_result",
          "data": {
            "text/plain": [
              "<openai.OpenAI at 0x7d9a38636d40>"
            ]
          },
          "metadata": {},
          "execution_count": 19
        }
      ]
    },
    {
      "cell_type": "code",
      "source": [
        "def complete_chat_normal(question):\n",
        "    messages = [\n",
        "        {\n",
        "            \"role\":\"system\",\n",
        "            \"content\": \"Answer the query as follows:\"\n",
        "        },\n",
        "        {\n",
        "            \"role\":\"user\",\n",
        "            \"content\":question\n",
        "        }\n",
        "    ]\n",
        "\n",
        "    response = client.chat.completions.create(\n",
        "    model=\"gpt-3.5-turbo\",\n",
        "    messages=messages\n",
        "    )\n",
        "\n",
        "    return response.choices[0].message.content\n",
        "\n",
        "def complete_chat(programmatic_instances, question):\n",
        "    messages = [\n",
        "        {\n",
        "            \"role\":\"system\",\n",
        "            \"content\": programmatic_instances\n",
        "        },\n",
        "        {\n",
        "            \"role\":\"user\",\n",
        "            \"content\":question\n",
        "        }\n",
        "    ]\n",
        "\n",
        "    response = client.chat.completions.create(\n",
        "    model=\"gpt-3.5-turbo\",\n",
        "    messages=messages\n",
        "    )\n",
        "\n",
        "\n",
        "    return response.choices[0].message.content"
      ],
      "metadata": {
        "id": "xJevXFCLE3Nv"
      },
      "execution_count": 64,
      "outputs": []
    },
    {
      "cell_type": "markdown",
      "source": [
        "# Example 1"
      ],
      "metadata": {
        "id": "z4DUwLgIEwz-"
      }
    },
    {
      "cell_type": "code",
      "source": [
        "question_prompt = \"Today is 27 February 2023. I was born exactly 25 years ago. What is the date I was born in MM/DD/YYYY?\"\n",
        "\n",
        "# from https://github.com/reasoning-machines/pal/blob/main/pal/prompt/date_understanding_prompt.py\n",
        "DATE_UNDERSTANDING_PROMPT = \"\"\"\n",
        "# Q: 2015 is coming in 36 hours. What is the date one week from today in MM/DD/YYYY?\n",
        "# If 2015 is coming in 36 hours, then today is 36 hours before.\n",
        "today = datetime(2015, 1, 1) - relativedelta(hours=36)\n",
        "# One week from today,\n",
        "one_week_from_today = today + relativedelta(weeks=1)\n",
        "# The answer formatted with %m/%d/%Y is\n",
        "one_week_from_today.strftime('%m/%d/%Y')\n",
        "# Q: The first day of 2019 is a Tuesday, and today is the first Monday of 2019. What is the date today in MM/DD/YYYY?\n",
        "# If the first day of 2019 is a Tuesday, and today is the first Monday of 2019, then today is 6 days later.\n",
        "today = datetime(2019, 1, 1) + relativedelta(days=6)\n",
        "# The answer formatted with %m/%d/%Y is\n",
        "today.strftime('%m/%d/%Y')\n",
        "# Q: The concert was scheduled to be on 06/01/1943, but was delayed by one day to today. What is the date 10 days ago in MM/DD/YYYY?\n",
        "# If the concert was scheduled to be on 06/01/1943, but was delayed by one day to today, then today is one day later.\n",
        "today = datetime(1943, 6, 1) + relativedelta(days=1)\n",
        "# 10 days ago,\n",
        "ten_days_ago = today - relativedelta(days=10)\n",
        "# The answer formatted with %m/%d/%Y is\n",
        "ten_days_ago.strftime('%m/%d/%Y')\n",
        "# Q: It is 4/19/1969 today. What is the date 24 hours later in MM/DD/YYYY?\n",
        "# It is 4/19/1969 today.\n",
        "today = datetime(1969, 4, 19)\n",
        "# 24 hours later,\n",
        "later = today + relativedelta(hours=24)\n",
        "# The answer formatted with %m/%d/%Y is\n",
        "today.strftime('%m/%d/%Y')\n",
        "# Q: Jane thought today is 3/11/2002, but today is in fact Mar 12, which is 1 day later. What is the date 24 hours later in MM/DD/YYYY?\n",
        "# If Jane thought today is 3/11/2002, but today is in fact Mar 12, then today is 3/12/2002.\n",
        "today = datetime(2002, 3, 12)\n",
        "# 24 hours later,\n",
        "later = today + relativedelta(hours=24)\n",
        "# The answer formatted with %m/%d/%Y is\n",
        "later.strftime('%m/%d/%Y')\n",
        "# Q: Jane was born on the last day of Feburary in 2001. Today is her 16-year-old birthday. What is the date yesterday in MM/DD/YYYY?\n",
        "# If Jane was born on the last day of Feburary in 2001 and today is her 16-year-old birthday, then today is 16 years later.\n",
        "today = datetime(2001, 2, 28) + relativedelta(years=16)\n",
        "# Yesterday,\n",
        "yesterday = today - relativedelta(days=1)\n",
        "# The answer formatted with %m/%d/%Y is\n",
        "yesterday.strftime('%m/%d/%Y')\n",
        "# Q: {question}\n",
        "\"\"\".strip() + '\\n'"
      ],
      "metadata": {
        "id": "SBvJN7BkzfUa"
      },
      "execution_count": 47,
      "outputs": []
    },
    {
      "cell_type": "code",
      "source": [],
      "metadata": {
        "id": "lYZJ45fnzsOR"
      },
      "execution_count": 63,
      "outputs": []
    },
    {
      "cell_type": "code",
      "source": [
        "print(complete_chat_normal(question_prompt))"
      ],
      "metadata": {
        "colab": {
          "base_uri": "https://localhost:8080/"
        },
        "id": "A5f0R8IK980p",
        "outputId": "54951b33-59ca-4ac2-a4ad-5798539cf8b7"
      },
      "execution_count": 59,
      "outputs": [
        {
          "output_type": "stream",
          "name": "stdout",
          "text": [
            "You were born on February 27, 1998.\n"
          ]
        }
      ]
    },
    {
      "cell_type": "code",
      "source": [
        "complete_chat(DATE_UNDERSTANDING_PROMPT, question_prompt)"
      ],
      "metadata": {
        "colab": {
          "base_uri": "https://localhost:8080/",
          "height": 55
        },
        "id": "pg3qFoDRDonf",
        "outputId": "a8a41e28-2260-4de0-d22c-f4be1c34d966"
      },
      "execution_count": 60,
      "outputs": [
        {
          "output_type": "execute_result",
          "data": {
            "text/plain": [
              "'If today is 27 February 2023 and you were born exactly 25 years ago, then the date you were born is:\\n\\n27 February 1998\\n\\nFormatted in MM/DD/YYYY, the date is 02/27/1998.'"
            ],
            "application/vnd.google.colaboratory.intrinsic+json": {
              "type": "string"
            }
          },
          "metadata": {},
          "execution_count": 60
        }
      ]
    },
    {
      "cell_type": "markdown",
      "source": [
        "If today is 27 February 2023, and you were born exactly 25 years ago, then:\n",
        "\n",
        "```python\n",
        "today = datetime(2023, 2, 27)\n",
        "born_date = today - relativedelta(years=25)\n",
        "```\n",
        "\n",
        "To get the date you were born in MM/DD/YYYY format:\n",
        "\n",
        "```python\n",
        "born_date.strftime('%m/%d/%Y')\n",
        "```\n",
        "\n",
        "Given this calculation, the date you were born is:\n",
        "\n",
        "```python\n",
        "02/27/1998\n",
        "```"
      ],
      "metadata": {
        "id": "k2xxDTyrCJNE"
      }
    },
    {
      "cell_type": "markdown",
      "source": [
        "# Example 2"
      ],
      "metadata": {
        "id": "qY8XzAJxEzWP"
      }
    },
    {
      "cell_type": "code",
      "source": [
        "MATH_PROMPT = '''\n",
        "Q: There were nine computers in the server room. Five more computers were installed each day, from Monday to Thursday. How many computers are now in the server room?\n",
        "\n",
        "# solution in Python:\n",
        "\"\"\"There were nine computers in the server room. Five more computers were installed each day, from Monday to Thursday. How many computers are now in the server room?\"\"\"\n",
        "computers_initial = 9\n",
        "computers_per_day = 5\n",
        "num_days = 4  # 4 days between Monday and Thursday\n",
        "computers_added = computers_per_day * num_days\n",
        "computers_total = computers_initial + computers_added\n",
        "result = computers_total\n",
        "return result\n",
        "\n",
        "\n",
        "Q: Shawn has five toys. For Christmas, he got two toys each from his mom and dad. How many toys does he have now?\n",
        "\n",
        "# solution in Python:\n",
        "\"\"\"Shawn has five toys. For Christmas, he got two toys each from his mom and dad. How many toys does he have now?\"\"\"\n",
        "toys_initial = 5\n",
        "mom_toys = 2\n",
        "dad_toys = 2\n",
        "total_received = mom_toys + dad_toys\n",
        "total_toys = toys_initial + total_received\n",
        "result = total_toys\n",
        "\n",
        "\n",
        "Q: Jason had 20 lollipops. He gave Denny some lollipops. Now Jason has 12 lollipops. How many lollipops did Jason give to Denny?\n",
        "\n",
        "# solution in Python:\n",
        "\"\"\"Jason had 20 lollipops. He gave Denny some lollipops. Now Jason has 12 lollipops. How many lollipops did Jason give to Denny?\"\"\"\n",
        "jason_lollipops_initial = 20\n",
        "jason_lollipops_after = 12\n",
        "denny_lollipops = jason_lollipops_initial - jason_lollipops_after\n",
        "result = denny_lollipops\n",
        "\n",
        "Q: {question}\n",
        "\n",
        "# solution in Python:\n",
        "'''\n",
        "\n",
        "question = '''\n",
        "Emma took a 60-minute plane ride to Seattle. She then took a 2-hour train\n",
        "ride to Portland, and then a 30-minute bus ride to Vancouver. How long did\n",
        "it take her to get to Vancouver?\n",
        "'''\n"
      ],
      "metadata": {
        "id": "eLVyV376-BsL"
      },
      "execution_count": 61,
      "outputs": []
    },
    {
      "cell_type": "code",
      "source": [
        "print(complete_chat_normal(question))"
      ],
      "metadata": {
        "colab": {
          "base_uri": "https://localhost:8080/"
        },
        "id": "SOrbIixiAP_W",
        "outputId": "f19ed3a9-e24c-4e1e-b6f7-a5ef10ffdc6b"
      },
      "execution_count": 62,
      "outputs": [
        {
          "output_type": "stream",
          "name": "stdout",
          "text": [
            "Emma took a total of 60 minutes by plane to Seattle, 2 hours by train to Portland, and 30 minutes by bus to Vancouver. To calculate the total time it took her to get to Vancouver, we add up the times from each leg of the journey:\n",
            "\n",
            "60 minutes (plane) + 120 minutes (train) + 30 minutes (bus) = 210 minutes\n",
            "\n",
            "Therefore, it took Emma a total of 210 minutes to get to Vancouver.\n"
          ]
        }
      ]
    },
    {
      "cell_type": "code",
      "source": [
        "complete_chat(MATH_PROMPT, question)"
      ],
      "metadata": {
        "colab": {
          "base_uri": "https://localhost:8080/",
          "height": 36
        },
        "id": "LQn0R1HtDG98",
        "outputId": "f67e42f1-1825-4515-d73c-3c52ba24f22e"
      },
      "execution_count": 63,
      "outputs": [
        {
          "output_type": "execute_result",
          "data": {
            "text/plain": [
              "'```\\ntotal_time = 60 + 120 + 30\\nresult = total_time\\nreturn result\\n```'"
            ],
            "application/vnd.google.colaboratory.intrinsic+json": {
              "type": "string"
            }
          },
          "metadata": {},
          "execution_count": 63
        }
      ]
    },
    {
      "cell_type": "markdown",
      "source": [
        "## With GPT 3.5 Turbo:\n",
        "\n",
        "```\n",
        "total_time = 60 + 120 + 30\n",
        "result = total_time\n",
        "return result\n",
        "```"
      ],
      "metadata": {
        "id": "2fc-0S46Epgm"
      }
    },
    {
      "cell_type": "markdown",
      "source": [
        "## With GPT-4o:"
      ],
      "metadata": {
        "id": "MUVfr9hJEmQg"
      }
    },
    {
      "cell_type": "markdown",
      "source": [
        "```python\n",
        "\"\"\"Emma took a 60-minute plane ride to Seattle. She then took a 2-hour train ride to Portland, and then a 30-minute bus ride to Vancouver. How long did it take her to get to Vancouver?\"\"\"\n",
        "plane_ride_minutes = 60\n",
        "train_ride_hours = 2\n",
        "bus_ride_minutes = 30\n",
        "\n",
        "# Convert train ride hours to minutes\n",
        "train_ride_minutes = train_ride_hours * 60\n",
        "\n",
        "# Calculate total travel time in minutes\n",
        "total_travel_minutes = plane_ride_minutes + train_ride_minutes + bus_ride_minutes\n",
        "result = total_travel_minutes\n",
        "```\n",
        "\n",
        "The total time it took Emma to get to Vancouver is stored in `result` in minutes."
      ],
      "metadata": {
        "id": "7jSGUf2WCqc5"
      }
    },
    {
      "cell_type": "code",
      "source": [
        "# code produced by GPT for the maths problem\n",
        "\"\"\"Emma took a 60-minute plane ride to Seattle. She then took a 2-hour train ride to Portland, and then a 30-minute bus ride to Vancouver. How long did it take her to get to Vancouver?\"\"\"\n",
        "\n",
        "# Time spent on each mode of transport\n",
        "plane_ride_minutes = 60  # 60 minutes\n",
        "train_ride_hours = 2  # 2 hours\n",
        "train_ride_minutes = train_ride_hours * 60  # Convert hours to minutes\n",
        "bus_ride_minutes = 30  # 30 minutes\n",
        "\n",
        "# Total travel time in minutes\n",
        "total_travel_time_minutes = plane_ride_minutes + train_ride_minutes + bus_ride_minutes\n",
        "result = total_travel_time_minutes\n",
        "print(result)"
      ],
      "metadata": {
        "colab": {
          "base_uri": "https://localhost:8080/"
        },
        "id": "QIwTU_sWCoPT",
        "outputId": "a7d4dae1-5535-40df-92d9-3edc23ad5e7b"
      },
      "execution_count": 66,
      "outputs": [
        {
          "output_type": "stream",
          "name": "stdout",
          "text": [
            "210\n"
          ]
        }
      ]
    },
    {
      "cell_type": "markdown",
      "source": [
        "## Thus, Program-Aided Prompting for LLM allows interpretation of the question being asked with the answer of that question to be leveraged by Python interpreter."
      ],
      "metadata": {
        "id": "oXMYWjw_KTyh"
      }
    },
    {
      "cell_type": "markdown",
      "source": [
        "#### References:\n",
        "\n",
        "1. [PAL Paper Link](https://arxiv.org/pdf/2211.10435)\n",
        "2. [Prompting Guide AI](https://www.promptingguide.ai/techniques/pal)\n",
        "3. [Learn Prompting Org, Code as Reasoning](https://learnprompting.org/docs/advanced_applications/pal)"
      ],
      "metadata": {
        "id": "oJ4nXWvjKt7P"
      }
    }
  ]
}